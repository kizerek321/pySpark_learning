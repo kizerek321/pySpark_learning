{
 "cells": [
  {
   "cell_type": "code",
   "id": "initial_id",
   "metadata": {
    "collapsed": true,
    "ExecuteTime": {
     "end_time": "2025-06-26T14:05:49.108954Z",
     "start_time": "2025-06-26T14:05:36.073601Z"
    }
   },
   "source": [
    "from pyspark.sql import SparkSession\n",
    "\n",
    "spark = SparkSession.builder.getOrCreate()"
   ],
   "outputs": [],
   "execution_count": 1
  },
  {
   "metadata": {
    "ExecuteTime": {
     "end_time": "2025-06-26T14:08:04.202729Z",
     "start_time": "2025-06-26T14:07:59.712260Z"
    }
   },
   "cell_type": "code",
   "source": [
    "import kagglehub\n",
    "\n",
    "# Download latest version\n",
    "path = kagglehub.dataset_download(\"jefferymandrake/us-business-dataset-multiple-categories\")\n",
    "\n",
    "print(\"Path to dataset files:\", path)"
   ],
   "id": "c50ac96b2cf57775",
   "outputs": [
    {
     "name": "stdout",
     "output_type": "stream",
     "text": [
      "Warning: Looks like you're using an outdated `kagglehub` version, please consider updating (latest version: 0.3.12)\n",
      "Downloading from https://www.kaggle.com/api/v1/datasets/download/jefferymandrake/us-business-dataset-multiple-categories?dataset_version_number=1...\n"
     ]
    },
    {
     "name": "stderr",
     "output_type": "stream",
     "text": [
      "100%|██████████| 15.2M/15.2M [00:01<00:00, 11.0MB/s]"
     ]
    },
    {
     "name": "stdout",
     "output_type": "stream",
     "text": [
      "Extracting model files...\n"
     ]
    },
    {
     "name": "stderr",
     "output_type": "stream",
     "text": [
      "\n"
     ]
    },
    {
     "name": "stdout",
     "output_type": "stream",
     "text": [
      "Path to dataset files: C:\\Users\\kizer\\.cache\\kagglehub\\datasets\\jefferymandrake\\us-business-dataset-multiple-categories\\versions\\1\n"
     ]
    }
   ],
   "execution_count": 2
  },
  {
   "metadata": {
    "ExecuteTime": {
     "end_time": "2025-06-26T14:12:32.991220Z",
     "start_time": "2025-06-26T14:12:31.423204Z"
    }
   },
   "cell_type": "code",
   "source": [
    "path_filename = path + \"\\\\US_Business_Dataset.csv\"\n",
    "df = spark.read.csv(path_filename, header=True, inferSchema=True)\n",
    "df.show()"
   ],
   "id": "6ff49fbbd8eca9bb",
   "outputs": [
    {
     "name": "stdout",
     "output_type": "stream",
     "text": [
      "+--------------------+----------------+-----+------+--------------------+--------------------+--------------------+\n",
      "|       Business Name|            City|State|Postal|            Category|          Category 2|          Category 3|\n",
      "+--------------------+----------------+-----+------+--------------------+--------------------+--------------------+\n",
      "|Cradle Of Life Ad...|        Beaumont|   TX| 77701|Abortion Alternat...|   Adoption Services|                NULL|\n",
      "|Whole Woman's Hea...|      Nottingham|   MD| 21236|   Abortion Services|Family Planning I...|Physicians  Surgeons|\n",
      "|Abrasive Brokers ...|            Troy|   MI| 48083|           Abrasives|     Hardware Stores|Industrial Equipm...|\n",
      "|    Abrasive Express|        Chandler|   AZ| 85225|           Abrasives|     Hardware Stores|Industrial Equipm...|\n",
      "|Abrasive Finishin...|         Chelsea|   MI| 48118|           Abrasives|     Hardware Stores|Industrial Equipm...|\n",
      "|Abrasive Material...|       Hillsdale|   MI| 49242|           Abrasives|Industrial Equipm...|     Hardware Stores|\n",
      "|Abrasive NEW AGE ...|          Sewell|   NJ|  8080|           Abrasives|Automobile Body R...|        Glass-Broken|\n",
      "|   Abrasive Products|    Indianapolis|   IN| 46226|           Abrasives|Abrasives-Wholesa...|                NULL|\n",
      "|     Abrasive Source|          Russia|   OH| 45363|           Abrasives|Abrasives-Wholesa...|Industrial Equipm...|\n",
      "|Abrasive Supply C...|         Minerva|   OH| 44657|           Abrasives|     Hardware Stores|Industrial Equipm...|\n",
      "|Abrasives  Equipm...|          Tucson|   AZ| 85714|           Abrasives|Abrasives-Wholesa...|Sandblasting Equi...|\n",
      "|Abrasives  Tools Inc|       Worcester|   MA|  1607|           Abrasives|       Cutting Tools|               Tools|\n",
      "|   Abrasives Spokane|         Spokane|   WA| 99202|           Abrasives|Cleaning Systems-...|            Chemical|\n",
      "| Abrasives-South Inc|North Charleston|   SC| 29405|           Abrasives|     Hardware Stores|Industrial Equipm...|\n",
      "|  Abrasives4sale.com|            NULL| NULL|  NULL|           Abrasives|Industrial Equipm...|Abrasives-Wholesa...|\n",
      "|      Access Diamond|      Georgetown|   CA| 95634|           Abrasives| Diamonds-Industrial|                NULL|\n",
      "|Action Superbrasi...|            Kent|   OH| 44240|           Abrasives|Abrasives-Wholesa...|Industrial Equipm...|\n",
      "|   Addison Abrasives|         Addison|   IL| 60101|           Abrasives|     Hardware Stores|Industrial Equipm...|\n",
      "|Advanced Abrasive...|      Pennsauken|   NJ|  8110|           Abrasives|Abrasives-Wholesa...|Industrial Equipm...|\n",
      "|          Agsco Corp|        Wheeling|   IL| 60090|           Abrasives|Abrasives-Wholesa...|Industrial Equipm...|\n",
      "+--------------------+----------------+-----+------+--------------------+--------------------+--------------------+\n",
      "only showing top 20 rows\n",
      "\n"
     ]
    }
   ],
   "execution_count": 9
  },
  {
   "metadata": {
    "ExecuteTime": {
     "end_time": "2025-06-26T14:12:43.891399Z",
     "start_time": "2025-06-26T14:12:43.885927Z"
    }
   },
   "cell_type": "code",
   "source": "df.printSchema()",
   "id": "29300603d375b6bf",
   "outputs": [
    {
     "name": "stdout",
     "output_type": "stream",
     "text": [
      "root\n",
      " |-- Business Name: string (nullable = true)\n",
      " |-- City: string (nullable = true)\n",
      " |-- State: string (nullable = true)\n",
      " |-- Postal: string (nullable = true)\n",
      " |-- Category: string (nullable = true)\n",
      " |-- Category 2: string (nullable = true)\n",
      " |-- Category 3: string (nullable = true)\n",
      "\n"
     ]
    }
   ],
   "execution_count": 10
  },
  {
   "metadata": {},
   "cell_type": "code",
   "outputs": [],
   "execution_count": null,
   "source": "",
   "id": "e433414b9d5efd88"
  }
 ],
 "metadata": {
  "kernelspec": {
   "display_name": "Python 3",
   "language": "python",
   "name": "python3"
  },
  "language_info": {
   "codemirror_mode": {
    "name": "ipython",
    "version": 2
   },
   "file_extension": ".py",
   "mimetype": "text/x-python",
   "name": "python",
   "nbconvert_exporter": "python",
   "pygments_lexer": "ipython2",
   "version": "2.7.6"
  }
 },
 "nbformat": 4,
 "nbformat_minor": 5
}
